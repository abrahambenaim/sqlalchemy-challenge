{
 "cells": [
  {
   "cell_type": "markdown",
   "metadata": {},
   "source": [
    "# Import Dependencies"
   ]
  },
  {
   "cell_type": "code",
   "execution_count": 1,
   "metadata": {},
   "outputs": [],
   "source": [
    "%matplotlib inline\n",
    "from matplotlib import style\n",
    "style.use('fivethirtyeight')\n",
    "import matplotlib.pyplot as plt"
   ]
  },
  {
   "cell_type": "code",
   "execution_count": 2,
   "metadata": {},
   "outputs": [],
   "source": [
    "import numpy as np\n",
    "import pandas as pd"
   ]
  },
  {
   "cell_type": "code",
   "execution_count": 3,
   "metadata": {},
   "outputs": [],
   "source": [
    "import datetime as dt"
   ]
  },
  {
   "cell_type": "code",
   "execution_count": 173,
   "metadata": {},
   "outputs": [],
   "source": [
    "# Python SQL toolkit and Object Relational Mapper\n",
    "import sqlalchemy\n",
    "from sqlalchemy.ext.automap import automap_base\n",
    "from sqlalchemy.orm import Session\n",
    "from sqlalchemy import create_engine, func\n",
    "from sqlalchemy import extract\n",
    "from sqlalchemy import and_\n",
    "from sqlalchemy import or_\n",
    "from mpl_toolkits.basemap import Basemap"
   ]
  },
  {
   "cell_type": "code",
   "execution_count": 174,
   "metadata": {},
   "outputs": [],
   "source": [
    "from flask import jsonify"
   ]
  },
  {
   "cell_type": "markdown",
   "metadata": {},
   "source": [
    "# Reflect Tables into SQLAlchemy ORM"
   ]
  },
  {
   "cell_type": "code",
   "execution_count": 5,
   "metadata": {},
   "outputs": [],
   "source": [
    "engine = create_engine(\"sqlite:////Users/cla/Desktop/UM Data Science/Homework/10 -sqlalchemy-challenge/Resources/hawaii.sqlite\")"
   ]
  },
  {
   "cell_type": "code",
   "execution_count": 6,
   "metadata": {},
   "outputs": [],
   "source": [
    "# reflect an existing database into a new model\n",
    "Base = automap_base()\n",
    "# reflect the tables\n",
    "Base.prepare(engine, reflect=True)"
   ]
  },
  {
   "cell_type": "code",
   "execution_count": 7,
   "metadata": {},
   "outputs": [
    {
     "data": {
      "text/plain": [
       "['measurement', 'station']"
      ]
     },
     "execution_count": 7,
     "metadata": {},
     "output_type": "execute_result"
    }
   ],
   "source": [
    "# We can view all of the classes that automap found\n",
    "Base.classes.keys()"
   ]
  },
  {
   "cell_type": "code",
   "execution_count": 8,
   "metadata": {},
   "outputs": [],
   "source": [
    "# Save references to each table\n",
    "Measurement = Base.classes.measurement\n",
    "Station = Base.classes.station"
   ]
  },
  {
   "cell_type": "code",
   "execution_count": 9,
   "metadata": {},
   "outputs": [],
   "source": [
    "# Create our session (link) from Python to the DB\n",
    "session = Session(engine)"
   ]
  },
  {
   "cell_type": "markdown",
   "metadata": {},
   "source": [
    "# Exploratory Climate Analysis"
   ]
  },
  {
   "cell_type": "code",
   "execution_count": 10,
   "metadata": {
    "scrolled": false
   },
   "outputs": [
    {
     "name": "stdout",
     "output_type": "stream",
     "text": [
      "2016-08-23\n"
     ]
    }
   ],
   "source": [
    "last_date=session.query(Measurement.date).\\\n",
    "order_by(Measurement.date.desc()).first()\n",
    "\n",
    "for date in last_date:\n",
    "    split_last_date=date.split('-')\n",
    "    \n",
    "last_year=int(split_last_date[0]); last_month=int(split_last_date[1]); last_day=int(split_last_date[2])\n",
    "\n",
    "query_date = dt.date(last_year, last_month, last_day) - dt.timedelta(days=365)\n",
    "\n",
    "print(query_date)"
   ]
  },
  {
   "cell_type": "markdown",
   "metadata": {},
   "source": [
    "# Precipitation Analysis "
   ]
  },
  {
   "cell_type": "code",
   "execution_count": 178,
   "metadata": {
    "scrolled": true
   },
   "outputs": [],
   "source": [
    "last_year = session.query(Measurement.date,Measurement.station,Measurement.prcp).\\\n",
    "filter(Measurement.date>=query_date).\\\n",
    "order_by(Measurement.date).all()\n",
    "\n",
    "last_year\n",
    "\n",
    "last_year_df = pd.DataFrame(last_year).set_index('date').dropna()\n"
   ]
  },
  {
   "cell_type": "code",
   "execution_count": 179,
   "metadata": {},
   "outputs": [
    {
     "data": {
      "text/html": [
       "<div>\n",
       "<style scoped>\n",
       "    .dataframe tbody tr th:only-of-type {\n",
       "        vertical-align: middle;\n",
       "    }\n",
       "\n",
       "    .dataframe tbody tr th {\n",
       "        vertical-align: top;\n",
       "    }\n",
       "\n",
       "    .dataframe thead th {\n",
       "        text-align: right;\n",
       "    }\n",
       "</style>\n",
       "<table border=\"1\" class=\"dataframe\">\n",
       "  <thead>\n",
       "    <tr style=\"text-align: right;\">\n",
       "      <th></th>\n",
       "      <th>station</th>\n",
       "      <th>prcp</th>\n",
       "    </tr>\n",
       "    <tr>\n",
       "      <th>date</th>\n",
       "      <th></th>\n",
       "      <th></th>\n",
       "    </tr>\n",
       "  </thead>\n",
       "  <tbody>\n",
       "    <tr>\n",
       "      <td>2016-08-23</td>\n",
       "      <td>USC00519397</td>\n",
       "      <td>0.00</td>\n",
       "    </tr>\n",
       "    <tr>\n",
       "      <td>2016-08-23</td>\n",
       "      <td>USC00513117</td>\n",
       "      <td>0.15</td>\n",
       "    </tr>\n",
       "    <tr>\n",
       "      <td>2016-08-23</td>\n",
       "      <td>USC00514830</td>\n",
       "      <td>0.05</td>\n",
       "    </tr>\n",
       "    <tr>\n",
       "      <td>2016-08-23</td>\n",
       "      <td>USC00519523</td>\n",
       "      <td>0.02</td>\n",
       "    </tr>\n",
       "    <tr>\n",
       "      <td>2016-08-23</td>\n",
       "      <td>USC00519281</td>\n",
       "      <td>1.79</td>\n",
       "    </tr>\n",
       "  </tbody>\n",
       "</table>\n",
       "</div>"
      ],
      "text/plain": [
       "                station  prcp\n",
       "date                         \n",
       "2016-08-23  USC00519397  0.00\n",
       "2016-08-23  USC00513117  0.15\n",
       "2016-08-23  USC00514830  0.05\n",
       "2016-08-23  USC00519523  0.02\n",
       "2016-08-23  USC00519281  1.79"
      ]
     },
     "execution_count": 179,
     "metadata": {},
     "output_type": "execute_result"
    }
   ],
   "source": [
    "last_year_df.head()\n"
   ]
  },
  {
   "cell_type": "code",
   "execution_count": 13,
   "metadata": {
    "scrolled": true
   },
   "outputs": [
    {
     "data": {
      "image/png": "[encoded data removed]",
      "text/plain": [
       "<Figure size 1080x1080 with 1 Axes>"
      ]
     },
     "metadata": {
      "needs_background": "light"
     },
     "output_type": "display_data"
    }
   ],
   "source": [
    "last_year_df.plot(figsize=(15,15))\n",
    "plt.show()\n"
   ]
  },
  {
   "cell_type": "code",
   "execution_count": 14,
   "metadata": {},
   "outputs": [
    {
     "data": {
      "text/html": [
       "<div>\n",
       "<style scoped>\n",
       "    .dataframe tbody tr th:only-of-type {\n",
       "        vertical-align: middle;\n",
       "    }\n",
       "\n",
       "    .dataframe tbody tr th {\n",
       "        vertical-align: top;\n",
       "    }\n",
       "\n",
       "    .dataframe thead th {\n",
       "        text-align: right;\n",
       "    }\n",
       "</style>\n",
       "<table border=\"1\" class=\"dataframe\">\n",
       "  <thead>\n",
       "    <tr style=\"text-align: right;\">\n",
       "      <th></th>\n",
       "      <th>prcp</th>\n",
       "    </tr>\n",
       "  </thead>\n",
       "  <tbody>\n",
       "    <tr>\n",
       "      <td>count</td>\n",
       "      <td>2021.000000</td>\n",
       "    </tr>\n",
       "    <tr>\n",
       "      <td>mean</td>\n",
       "      <td>0.177279</td>\n",
       "    </tr>\n",
       "    <tr>\n",
       "      <td>std</td>\n",
       "      <td>0.461190</td>\n",
       "    </tr>\n",
       "    <tr>\n",
       "      <td>min</td>\n",
       "      <td>0.000000</td>\n",
       "    </tr>\n",
       "    <tr>\n",
       "      <td>25%</td>\n",
       "      <td>0.000000</td>\n",
       "    </tr>\n",
       "    <tr>\n",
       "      <td>50%</td>\n",
       "      <td>0.020000</td>\n",
       "    </tr>\n",
       "    <tr>\n",
       "      <td>75%</td>\n",
       "      <td>0.130000</td>\n",
       "    </tr>\n",
       "    <tr>\n",
       "      <td>max</td>\n",
       "      <td>6.700000</td>\n",
       "    </tr>\n",
       "  </tbody>\n",
       "</table>\n",
       "</div>"
      ],
      "text/plain": [
       "              prcp\n",
       "count  2021.000000\n",
       "mean      0.177279\n",
       "std       0.461190\n",
       "min       0.000000\n",
       "25%       0.000000\n",
       "50%       0.020000\n",
       "75%       0.130000\n",
       "max       6.700000"
      ]
     },
     "execution_count": 14,
     "metadata": {},
     "output_type": "execute_result"
    }
   ],
   "source": [
    "# Use Pandas to calcualte the summary statistics for the precipitation data\n",
    "\n",
    "prcp_stats = last_year_df.describe()\n",
    "\n",
    "prcp_stats\n",
    "\n"
   ]
  },
  {
   "cell_type": "markdown",
   "metadata": {},
   "source": [
    "# Station Analysis"
   ]
  },
  {
   "cell_type": "code",
   "execution_count": 15,
   "metadata": {},
   "outputs": [
    {
     "data": {
      "text/plain": [
       "9"
      ]
     },
     "execution_count": 15,
     "metadata": {},
     "output_type": "execute_result"
    }
   ],
   "source": [
    "#Stations available in dataset\n",
    "\n",
    "station_count = session.query(Measurement.station).\\\n",
    "group_by(Measurement.station).count()\n",
    "\n",
    "station_count\n"
   ]
  },
  {
   "cell_type": "code",
   "execution_count": 16,
   "metadata": {},
   "outputs": [
    {
     "data": {
      "text/html": [
       "<div>\n",
       "<style scoped>\n",
       "    .dataframe tbody tr th:only-of-type {\n",
       "        vertical-align: middle;\n",
       "    }\n",
       "\n",
       "    .dataframe tbody tr th {\n",
       "        vertical-align: top;\n",
       "    }\n",
       "\n",
       "    .dataframe thead th {\n",
       "        text-align: right;\n",
       "    }\n",
       "</style>\n",
       "<table border=\"1\" class=\"dataframe\">\n",
       "  <thead>\n",
       "    <tr style=\"text-align: right;\">\n",
       "      <th></th>\n",
       "      <th>count</th>\n",
       "      <th>station</th>\n",
       "    </tr>\n",
       "  </thead>\n",
       "  <tbody>\n",
       "    <tr>\n",
       "      <td>8</td>\n",
       "      <td>2772</td>\n",
       "      <td>USC00519281</td>\n",
       "    </tr>\n",
       "    <tr>\n",
       "      <td>7</td>\n",
       "      <td>2724</td>\n",
       "      <td>USC00519397</td>\n",
       "    </tr>\n",
       "    <tr>\n",
       "      <td>6</td>\n",
       "      <td>2709</td>\n",
       "      <td>USC00513117</td>\n",
       "    </tr>\n",
       "    <tr>\n",
       "      <td>5</td>\n",
       "      <td>2669</td>\n",
       "      <td>USC00519523</td>\n",
       "    </tr>\n",
       "    <tr>\n",
       "      <td>4</td>\n",
       "      <td>2612</td>\n",
       "      <td>USC00516128</td>\n",
       "    </tr>\n",
       "    <tr>\n",
       "      <td>3</td>\n",
       "      <td>2202</td>\n",
       "      <td>USC00514830</td>\n",
       "    </tr>\n",
       "    <tr>\n",
       "      <td>2</td>\n",
       "      <td>1979</td>\n",
       "      <td>USC00511918</td>\n",
       "    </tr>\n",
       "    <tr>\n",
       "      <td>1</td>\n",
       "      <td>1372</td>\n",
       "      <td>USC00517948</td>\n",
       "    </tr>\n",
       "    <tr>\n",
       "      <td>0</td>\n",
       "      <td>511</td>\n",
       "      <td>USC00518838</td>\n",
       "    </tr>\n",
       "  </tbody>\n",
       "</table>\n",
       "</div>"
      ],
      "text/plain": [
       "   count      station\n",
       "8   2772  USC00519281\n",
       "7   2724  USC00519397\n",
       "6   2709  USC00513117\n",
       "5   2669  USC00519523\n",
       "4   2612  USC00516128\n",
       "3   2202  USC00514830\n",
       "2   1979  USC00511918\n",
       "1   1372  USC00517948\n",
       "0    511  USC00518838"
      ]
     },
     "execution_count": 16,
     "metadata": {},
     "output_type": "execute_result"
    }
   ],
   "source": [
    "# The most active stations\n",
    "station_activity = session.query(func.count(Measurement.station).label('count'), Measurement.station).\\\n",
    "group_by(Measurement.station).\\\n",
    "order_by('count').all()\n",
    "\n",
    "station_activity_df = pd.DataFrame(station_activity).dropna()\n",
    "\n",
    "station_activity_df = station_activity_df.sort_values(by='count', ascending=False)\n",
    "\n",
    "station_activity_df"
   ]
  },
  {
   "cell_type": "code",
   "execution_count": 141,
   "metadata": {},
   "outputs": [
    {
     "data": {
      "text/html": [
       "<div>\n",
       "<style scoped>\n",
       "    .dataframe tbody tr th:only-of-type {\n",
       "        vertical-align: middle;\n",
       "    }\n",
       "\n",
       "    .dataframe tbody tr th {\n",
       "        vertical-align: top;\n",
       "    }\n",
       "\n",
       "    .dataframe thead th {\n",
       "        text-align: right;\n",
       "    }\n",
       "</style>\n",
       "<table border=\"1\" class=\"dataframe\">\n",
       "  <thead>\n",
       "    <tr style=\"text-align: right;\">\n",
       "      <th></th>\n",
       "      <th>station</th>\n",
       "      <th>name</th>\n",
       "      <th>latitude</th>\n",
       "      <th>longitude</th>\n",
       "      <th>elevation</th>\n",
       "    </tr>\n",
       "  </thead>\n",
       "  <tbody>\n",
       "    <tr>\n",
       "      <td>0</td>\n",
       "      <td>USC00519397</td>\n",
       "      <td>WAIKIKI 717.2, HI US</td>\n",
       "      <td>21.27160</td>\n",
       "      <td>-157.81680</td>\n",
       "      <td>3.0</td>\n",
       "    </tr>\n",
       "    <tr>\n",
       "      <td>1</td>\n",
       "      <td>USC00513117</td>\n",
       "      <td>KANEOHE 838.1, HI US</td>\n",
       "      <td>21.42340</td>\n",
       "      <td>-157.80150</td>\n",
       "      <td>14.6</td>\n",
       "    </tr>\n",
       "    <tr>\n",
       "      <td>2</td>\n",
       "      <td>USC00514830</td>\n",
       "      <td>KUALOA RANCH HEADQUARTERS 886.9, HI US</td>\n",
       "      <td>21.52130</td>\n",
       "      <td>-157.83740</td>\n",
       "      <td>7.0</td>\n",
       "    </tr>\n",
       "    <tr>\n",
       "      <td>3</td>\n",
       "      <td>USC00517948</td>\n",
       "      <td>PEARL CITY, HI US</td>\n",
       "      <td>21.39340</td>\n",
       "      <td>-157.97510</td>\n",
       "      <td>11.9</td>\n",
       "    </tr>\n",
       "    <tr>\n",
       "      <td>4</td>\n",
       "      <td>USC00518838</td>\n",
       "      <td>UPPER WAHIAWA 874.3, HI US</td>\n",
       "      <td>21.49920</td>\n",
       "      <td>-158.01110</td>\n",
       "      <td>306.6</td>\n",
       "    </tr>\n",
       "    <tr>\n",
       "      <td>5</td>\n",
       "      <td>USC00519523</td>\n",
       "      <td>WAIMANALO EXPERIMENTAL FARM, HI US</td>\n",
       "      <td>21.33556</td>\n",
       "      <td>-157.71139</td>\n",
       "      <td>19.5</td>\n",
       "    </tr>\n",
       "    <tr>\n",
       "      <td>6</td>\n",
       "      <td>USC00519281</td>\n",
       "      <td>WAIHEE 837.5, HI US</td>\n",
       "      <td>21.45167</td>\n",
       "      <td>-157.84889</td>\n",
       "      <td>32.9</td>\n",
       "    </tr>\n",
       "    <tr>\n",
       "      <td>7</td>\n",
       "      <td>USC00511918</td>\n",
       "      <td>HONOLULU OBSERVATORY 702.2, HI US</td>\n",
       "      <td>21.31520</td>\n",
       "      <td>-157.99920</td>\n",
       "      <td>0.9</td>\n",
       "    </tr>\n",
       "    <tr>\n",
       "      <td>8</td>\n",
       "      <td>USC00516128</td>\n",
       "      <td>MANOA LYON ARBO 785.2, HI US</td>\n",
       "      <td>21.33310</td>\n",
       "      <td>-157.80250</td>\n",
       "      <td>152.4</td>\n",
       "    </tr>\n",
       "  </tbody>\n",
       "</table>\n",
       "</div>"
      ],
      "text/plain": [
       "       station                                    name  latitude  longitude  \\\n",
       "0  USC00519397                    WAIKIKI 717.2, HI US  21.27160 -157.81680   \n",
       "1  USC00513117                    KANEOHE 838.1, HI US  21.42340 -157.80150   \n",
       "2  USC00514830  KUALOA RANCH HEADQUARTERS 886.9, HI US  21.52130 -157.83740   \n",
       "3  USC00517948                       PEARL CITY, HI US  21.39340 -157.97510   \n",
       "4  USC00518838              UPPER WAHIAWA 874.3, HI US  21.49920 -158.01110   \n",
       "5  USC00519523      WAIMANALO EXPERIMENTAL FARM, HI US  21.33556 -157.71139   \n",
       "6  USC00519281                     WAIHEE 837.5, HI US  21.45167 -157.84889   \n",
       "7  USC00511918       HONOLULU OBSERVATORY 702.2, HI US  21.31520 -157.99920   \n",
       "8  USC00516128            MANOA LYON ARBO 785.2, HI US  21.33310 -157.80250   \n",
       "\n",
       "   elevation  \n",
       "0        3.0  \n",
       "1       14.6  \n",
       "2        7.0  \n",
       "3       11.9  \n",
       "4      306.6  \n",
       "5       19.5  \n",
       "6       32.9  \n",
       "7        0.9  \n",
       "8      152.4  "
      ]
     },
     "execution_count": 141,
     "metadata": {},
     "output_type": "execute_result"
    }
   ],
   "source": [
    "station_names = session.query(Station.station, Station.name, Station.latitude, Station.longitude, Station.elevation).all()\n",
    "station_names = pd.DataFrame(station_names)\n",
    "station_names"
   ]
  },
  {
   "cell_type": "code",
   "execution_count": 18,
   "metadata": {},
   "outputs": [
    {
     "name": "stdout",
     "output_type": "stream",
     "text": [
      "The most active station is: USC00519281\n"
     ]
    }
   ],
   "source": [
    "most_active = station_activity_df.head(1)\n",
    "most_active_station = most_active['station'].values[0]\n",
    "print('The most active station is: ' + str(most_active_station))"
   ]
  },
  {
   "cell_type": "code",
   "execution_count": 19,
   "metadata": {},
   "outputs": [
    {
     "name": "stdout",
     "output_type": "stream",
     "text": [
      "The least active station is: USC00518838\n"
     ]
    }
   ],
   "source": [
    "least_active = station_activity_df.sort_values(by='count').head(1)\n",
    "least_active_station = least_active['station'].values[0]\n",
    "print('The least active station is: ' + str(least_active_station))"
   ]
  },
  {
   "cell_type": "code",
   "execution_count": 20,
   "metadata": {},
   "outputs": [
    {
     "name": "stdout",
     "output_type": "stream",
     "text": [
      "The minimum temperature recorded is 53.0 in station USC00511918\n"
     ]
    },
    {
     "data": {
      "text/html": [
       "<div>\n",
       "<style scoped>\n",
       "    .dataframe tbody tr th:only-of-type {\n",
       "        vertical-align: middle;\n",
       "    }\n",
       "\n",
       "    .dataframe tbody tr th {\n",
       "        vertical-align: top;\n",
       "    }\n",
       "\n",
       "    .dataframe thead th {\n",
       "        text-align: right;\n",
       "    }\n",
       "</style>\n",
       "<table border=\"1\" class=\"dataframe\">\n",
       "  <thead>\n",
       "    <tr style=\"text-align: right;\">\n",
       "      <th></th>\n",
       "      <th>min_temp</th>\n",
       "      <th>station</th>\n",
       "    </tr>\n",
       "  </thead>\n",
       "  <tbody>\n",
       "    <tr>\n",
       "      <td>0</td>\n",
       "      <td>53.0</td>\n",
       "      <td>USC00511918</td>\n",
       "    </tr>\n",
       "    <tr>\n",
       "      <td>1</td>\n",
       "      <td>54.0</td>\n",
       "      <td>USC00519281</td>\n",
       "    </tr>\n",
       "    <tr>\n",
       "      <td>2</td>\n",
       "      <td>56.0</td>\n",
       "      <td>USC00519397</td>\n",
       "    </tr>\n",
       "    <tr>\n",
       "      <td>3</td>\n",
       "      <td>56.0</td>\n",
       "      <td>USC00519523</td>\n",
       "    </tr>\n",
       "    <tr>\n",
       "      <td>4</td>\n",
       "      <td>58.0</td>\n",
       "      <td>USC00514830</td>\n",
       "    </tr>\n",
       "    <tr>\n",
       "      <td>5</td>\n",
       "      <td>58.0</td>\n",
       "      <td>USC00516128</td>\n",
       "    </tr>\n",
       "    <tr>\n",
       "      <td>6</td>\n",
       "      <td>58.0</td>\n",
       "      <td>USC00517948</td>\n",
       "    </tr>\n",
       "    <tr>\n",
       "      <td>7</td>\n",
       "      <td>58.0</td>\n",
       "      <td>USC00518838</td>\n",
       "    </tr>\n",
       "    <tr>\n",
       "      <td>8</td>\n",
       "      <td>59.0</td>\n",
       "      <td>USC00513117</td>\n",
       "    </tr>\n",
       "  </tbody>\n",
       "</table>\n",
       "</div>"
      ],
      "text/plain": [
       "   min_temp      station\n",
       "0      53.0  USC00511918\n",
       "1      54.0  USC00519281\n",
       "2      56.0  USC00519397\n",
       "3      56.0  USC00519523\n",
       "4      58.0  USC00514830\n",
       "5      58.0  USC00516128\n",
       "6      58.0  USC00517948\n",
       "7      58.0  USC00518838\n",
       "8      59.0  USC00513117"
      ]
     },
     "execution_count": 20,
     "metadata": {},
     "output_type": "execute_result"
    }
   ],
   "source": [
    "# The lowest temperature recorded\n",
    "\n",
    "station_temperature = session.query(func.min(Measurement.tobs).label('min_temp'), Measurement.station).\\\n",
    "group_by(Measurement.station).\\\n",
    "order_by('min_temp').all()\n",
    "\n",
    "station_mintemp_df = pd.DataFrame(station_temperature).dropna()\n",
    "\n",
    "station_mintemp_df = station_mintemp_df.sort_values(by='min_temp')\n",
    "\n",
    "min_temp_recorded = station_mintemp_df['min_temp'].values[0]\n",
    "min_temp_station = station_mintemp_df['station'].values[0]\n",
    "print('The minimum temperature recorded is ' + str(min_temp_recorded) + ' in station ' + str(min_temp_station))\n",
    "\n",
    "station_mintemp_df\n"
   ]
  },
  {
   "cell_type": "code",
   "execution_count": 21,
   "metadata": {},
   "outputs": [
    {
     "data": {
      "text/plain": [
       "(2772, 'USC00519281', 85.0, 54.0, 71.66378066378067)"
      ]
     },
     "execution_count": 21,
     "metadata": {},
     "output_type": "execute_result"
    }
   ],
   "source": [
    "#Lowest and highest temperature recorded, and average temperature of the most active station\n",
    "\n",
    "most_active_summary = session.query(func.count(Measurement.station).label('count'), Measurement.station,\\\n",
    "(func.max(Measurement.tobs)), (func.min(Measurement.tobs)), (func.avg(Measurement.tobs))).\\\n",
    "group_by(Measurement.station).\\\n",
    "order_by(func.count(Measurement.station).desc()).first()\n",
    "\n",
    "most_active_summary"
   ]
  },
  {
   "cell_type": "code",
   "execution_count": 22,
   "metadata": {},
   "outputs": [
    {
     "data": {
      "image/png": "[encoded data removed]",
      "text/plain": [
       "<Figure size 432x288 with 1 Axes>"
      ]
     },
     "metadata": {
      "needs_background": "light"
     },
     "output_type": "display_data"
    }
   ],
   "source": [
    "#Temperatures recorded at the most active station in the last year\n",
    "most_active_station\n",
    "\n",
    "most_active_ly = session.query(Measurement.date,Measurement.tobs).\\\n",
    "filter(Measurement.date>=query_date).\\\n",
    "filter(Measurement.station==most_active_station).\\\n",
    "order_by(Measurement.date).all()\n",
    "\n",
    "most_active_ly_df = pd.DataFrame(most_active_ly)\n",
    "most_active_ly_df.plot.hist(bins=12)\n",
    "plt.show()"
   ]
  },
  {
   "cell_type": "code",
   "execution_count": 148,
   "metadata": {},
   "outputs": [
    {
     "name": "stdout",
     "output_type": "stream",
     "text": [
      "Enter a date to search the weather(yyyy-mm-dd)2010-05-20\n",
      "End date of your search(yyyy-mm-dd)2011-05-20\n"
     ]
    },
    {
     "data": {
      "text/plain": [
       "[('2010-05-20', 72.57142857142857, 77.0, 71.0),\n",
       " ('2010-05-21', 73.22222222222223, 77.0, 70.0),\n",
       " ('2010-05-22', 75.875, 80.0, 72.0),\n",
       " ('2010-05-23', 73.0, 75.0, 70.0),\n",
       " ('2010-05-24', 73.375, 77.0, 71.0),\n",
       " ('2010-05-25', 73.77777777777777, 77.0, 71.0),\n",
       " ('2010-05-26', 74.22222222222223, 78.0, 71.0),\n",
       " ('2010-05-27', 73.625, 80.0, 67.0),\n",
       " ('2010-05-28', 72.42857142857143, 77.0, 67.0),\n",
       " ('2010-05-29', 75.6, 78.0, 74.0),\n",
       " ('2010-05-30', 75.16666666666667, 77.0, 73.0),\n",
       " ('2010-05-31', 77.42857142857143, 81.0, 75.0),\n",
       " ('2010-06-01', 73.55555555555556, 78.0, 69.0),\n",
       " ('2010-06-02', 74.55555555555556, 78.0, 70.0),\n",
       " ('2010-06-03', 74.44444444444444, 78.0, 67.0),\n",
       " ('2010-06-04', 72.88888888888889, 76.0, 68.0),\n",
       " ('2010-06-05', 76.0, 79.0, 72.0),\n",
       " ('2010-06-06', 76.0, 79.0, 73.0),\n",
       " ('2010-06-07', 74.25, 77.0, 69.0),\n",
       " ('2010-06-08', 75.625, 79.0, 71.0),\n",
       " ('2010-06-09', 75.88888888888889, 80.0, 72.0),\n",
       " ('2010-06-10', 75.75, 79.0, 72.0),\n",
       " ('2010-06-11', 78.0, 83.0, 75.0),\n",
       " ('2010-06-12', 75.0, 78.0, 70.0),\n",
       " ('2010-06-13', 77.0, 79.0, 74.0),\n",
       " ('2010-06-14', 73.42857142857143, 77.0, 70.0),\n",
       " ('2010-06-15', 74.25, 78.0, 69.0),\n",
       " ('2010-06-16', 74.75, 78.0, 70.0),\n",
       " ('2010-06-17', 75.11111111111111, 78.0, 72.0),\n",
       " ('2010-06-18', 72.0, 77.0, 70.0),\n",
       " ('2010-06-19', 76.25, 82.0, 74.0),\n",
       " ('2010-06-20', 77.42857142857143, 85.0, 73.0),\n",
       " ('2010-06-21', 75.71428571428571, 78.0, 74.0),\n",
       " ('2010-06-22', 74.88888888888889, 79.0, 69.0),\n",
       " ('2010-06-23', 75.11111111111111, 78.0, 72.0),\n",
       " ('2010-06-24', 75.0, 78.0, 72.0),\n",
       " ('2010-06-25', 73.11111111111111, 77.0, 70.0),\n",
       " ('2010-06-26', 73.66666666666667, 80.0, 69.0),\n",
       " ('2010-06-27', 76.5, 80.0, 73.0),\n",
       " ('2010-06-28', 74.44444444444444, 78.0, 71.0),\n",
       " ('2010-06-29', 74.11111111111111, 78.0, 70.0),\n",
       " ('2010-06-30', 75.0, 78.0, 72.0),\n",
       " ('2010-07-01', 72.75, 75.0, 70.0),\n",
       " ('2010-07-02', 72.0, 77.0, 69.0),\n",
       " ('2010-07-03', 74.125, 78.0, 69.0),\n",
       " ('2010-07-04', 75.375, 79.0, 72.0),\n",
       " ('2010-07-05', 75.5, 79.0, 72.0),\n",
       " ('2010-07-06', 72.22222222222223, 76.0, 69.0),\n",
       " ('2010-07-07', 72.11111111111111, 76.0, 69.0),\n",
       " ('2010-07-08', 73.375, 76.0, 69.0),\n",
       " ('2010-07-09', 72.77777777777777, 74.0, 68.0),\n",
       " ('2010-07-10', 73.125, 76.0, 68.0),\n",
       " ('2010-07-11', 76.66666666666667, 81.0, 71.0),\n",
       " ('2010-07-12', 73.85714285714286, 80.0, 70.0),\n",
       " ('2010-07-13', 74.5, 80.0, 69.0),\n",
       " ('2010-07-14', 72.28571428571429, 77.0, 69.0),\n",
       " ('2010-07-15', 73.75, 79.0, 68.0),\n",
       " ('2010-07-16', 76.0, 80.0, 70.0),\n",
       " ('2010-07-17', 73.5, 76.0, 70.0),\n",
       " ('2010-07-18', 75.42857142857143, 77.0, 74.0),\n",
       " ('2010-07-19', 72.5, 77.0, 69.0),\n",
       " ('2010-07-20', 74.14285714285714, 77.0, 70.0),\n",
       " ('2010-07-21', 75.5, 80.0, 72.0),\n",
       " ('2010-07-22', 76.0, 80.0, 72.0),\n",
       " ('2010-07-23', 72.42857142857143, 76.0, 70.0),\n",
       " ('2010-07-24', 76.83333333333333, 80.0, 73.0),\n",
       " ('2010-07-25', 76.66666666666667, 79.0, 74.0),\n",
       " ('2010-07-26', 74.42857142857143, 78.0, 71.0),\n",
       " ('2010-07-27', 73.25, 81.0, 68.0),\n",
       " ('2010-07-28', 74.25, 80.0, 69.0),\n",
       " ('2010-07-29', 75.42857142857143, 79.0, 72.0),\n",
       " ('2010-07-30', 75.0, 80.0, 69.0),\n",
       " ('2010-07-31', 75.85714285714286, 78.0, 73.0),\n",
       " ('2010-08-01', 73.42857142857143, 77.0, 71.0),\n",
       " ('2010-08-02', 73.22222222222223, 76.0, 70.0),\n",
       " ('2010-08-03', 73.11111111111111, 77.0, 70.0),\n",
       " ('2010-08-04', 73.44444444444444, 77.0, 69.0),\n",
       " ('2010-08-05', 71.77777777777777, 75.0, 69.0),\n",
       " ('2010-08-06', 74.44444444444444, 77.0, 70.0),\n",
       " ('2010-08-07', 75.625, 80.0, 72.0),\n",
       " ('2010-08-08', 74.57142857142857, 78.0, 71.0),\n",
       " ('2010-08-09', 75.22222222222223, 79.0, 72.0),\n",
       " ('2010-08-10', 76.22222222222223, 83.0, 72.0),\n",
       " ('2010-08-11', 73.22222222222223, 77.0, 69.0),\n",
       " ('2010-08-12', 74.875, 77.0, 71.0),\n",
       " ('2010-08-13', 75.77777777777777, 80.0, 71.0),\n",
       " ('2010-08-14', 76.14285714285714, 78.0, 71.0),\n",
       " ('2010-08-15', 75.57142857142857, 79.0, 72.0),\n",
       " ('2010-08-16', 73.0, 80.0, 69.0),\n",
       " ('2010-08-17', 73.77777777777777, 79.0, 69.0),\n",
       " ('2010-08-18', 75.11111111111111, 79.0, 70.0),\n",
       " ('2010-08-19', 76.11111111111111, 79.0, 70.0),\n",
       " ('2010-08-20', 76.125, 79.0, 71.0),\n",
       " ('2010-08-21', 76.85714285714286, 81.0, 72.0),\n",
       " ('2010-08-22', 75.42857142857143, 82.0, 71.0),\n",
       " ('2010-08-23', 76.88888888888889, 87.0, 73.0),\n",
       " ('2010-08-24', 74.875, 80.0, 70.0),\n",
       " ('2010-08-25', 73.44444444444444, 76.0, 69.0),\n",
       " ('2010-08-26', 73.55555555555556, 78.0, 71.0),\n",
       " ('2010-08-27', 75.25, 78.0, 73.0),\n",
       " ('2010-08-28', 77.5, 82.0, 73.0),\n",
       " ('2010-08-29', 75.625, 78.0, 71.0),\n",
       " ('2010-08-30', 74.11111111111111, 78.0, 68.0),\n",
       " ('2010-08-31', 73.44444444444444, 80.0, 67.0),\n",
       " ('2010-09-01', 73.33333333333333, 77.0, 69.0),\n",
       " ('2010-09-02', 72.0, 76.0, 67.0),\n",
       " ('2010-09-03', 74.44444444444444, 78.0, 69.0),\n",
       " ('2010-09-04', 75.57142857142857, 82.0, 68.0),\n",
       " ('2010-09-05', 75.875, 82.0, 71.0),\n",
       " ('2010-09-06', 75.75, 80.0, 68.0),\n",
       " ('2010-09-07', 73.66666666666667, 77.0, 69.0),\n",
       " ('2010-09-08', 73.625, 78.0, 67.0),\n",
       " ('2010-09-09', 74.88888888888889, 78.0, 69.0),\n",
       " ('2010-09-10', 74.55555555555556, 78.0, 71.0),\n",
       " ('2010-09-11', 77.57142857142857, 81.0, 74.0),\n",
       " ('2010-09-12', 76.75, 80.0, 73.0),\n",
       " ('2010-09-13', 75.55555555555556, 78.0, 72.0),\n",
       " ('2010-09-14', 75.11111111111111, 79.0, 69.0),\n",
       " ('2010-09-15', 75.66666666666667, 78.0, 72.0),\n",
       " ('2010-09-16', 76.0, 79.0, 72.0),\n",
       " ('2010-09-17', 76.0, 78.0, 73.0),\n",
       " ('2010-09-18', 75.42857142857143, 78.0, 71.0),\n",
       " ('2010-09-19', 77.57142857142857, 87.0, 74.0),\n",
       " ('2010-09-20', 75.625, 78.0, 73.0),\n",
       " ('2010-09-21', 74.55555555555556, 79.0, 67.0),\n",
       " ('2010-09-22', 73.44444444444444, 76.0, 71.0),\n",
       " ('2010-09-23', 73.55555555555556, 78.0, 67.0),\n",
       " ('2010-09-24', 74.88888888888889, 78.0, 70.0),\n",
       " ('2010-09-25', 75.57142857142857, 79.0, 71.0),\n",
       " ('2010-09-26', 75.71428571428571, 79.0, 72.0),\n",
       " ('2010-09-27', 73.55555555555556, 83.0, 68.0),\n",
       " ('2010-09-28', 73.33333333333333, 77.0, 67.0),\n",
       " ('2010-09-29', 72.5, 78.0, 68.0),\n",
       " ('2010-09-30', 71.0, 73.0, 68.0),\n",
       " ('2010-10-01', 73.0, 78.0, 71.0),\n",
       " ('2010-10-02', 76.75, 80.0, 73.0),\n",
       " ('2010-10-03', 76.625, 82.0, 70.0),\n",
       " ('2010-10-04', 74.77777777777777, 78.0, 71.0),\n",
       " ('2010-10-05', 76.44444444444444, 80.0, 71.0),\n",
       " ('2010-10-06', 75.77777777777777, 79.0, 71.0),\n",
       " ('2010-10-07', 74.66666666666667, 80.0, 68.0),\n",
       " ('2010-10-08', 75.66666666666667, 81.0, 69.0),\n",
       " ('2010-10-09', 76.42857142857143, 79.0, 72.0),\n",
       " ('2010-10-10', 76.57142857142857, 80.0, 73.0),\n",
       " ('2010-10-11', 75.42857142857143, 79.0, 71.0),\n",
       " ('2010-10-12', 74.125, 80.0, 71.0),\n",
       " ('2010-10-13', 75.0, 78.0, 71.0),\n",
       " ('2010-10-14', 73.75, 77.0, 67.0),\n",
       " ('2010-10-15', 75.375, 82.0, 70.0),\n",
       " ('2010-10-16', 75.33333333333333, 77.0, 72.0),\n",
       " ('2010-10-17', 76.25, 81.0, 74.0),\n",
       " ('2010-10-18', 71.625, 76.0, 65.0),\n",
       " ('2010-10-19', 71.0, 74.0, 67.0),\n",
       " ('2010-10-20', 72.66666666666667, 78.0, 67.0),\n",
       " ('2010-10-21', 74.25, 80.0, 72.0),\n",
       " ('2010-10-22', 74.22222222222223, 77.0, 68.0),\n",
       " ('2010-10-23', 76.0, 84.0, 73.0),\n",
       " ('2010-10-24', 76.625, 80.0, 74.0),\n",
       " ('2010-10-25', 76.0, 78.0, 74.0),\n",
       " ('2010-10-26', 74.22222222222223, 76.0, 71.0),\n",
       " ('2010-10-27', 75.55555555555556, 79.0, 71.0),\n",
       " ('2010-10-28', 75.77777777777777, 78.0, 73.0),\n",
       " ('2010-10-29', 73.77777777777777, 78.0, 70.0),\n",
       " ('2010-10-30', 75.85714285714286, 81.0, 70.0),\n",
       " ('2010-10-31', 75.28571428571429, 80.0, 71.0),\n",
       " ('2010-11-01', 72.33333333333333, 75.0, 70.0),\n",
       " ('2010-11-02', 72.42857142857143, 77.0, 65.0),\n",
       " ('2010-11-03', 69.75, 72.0, 68.0),\n",
       " ('2010-11-04', 71.66666666666667, 73.0, 69.0),\n",
       " ('2010-11-05', 73.77777777777777, 77.0, 71.0),\n",
       " ('2010-11-06', 73.85714285714286, 76.0, 70.0),\n",
       " ('2010-11-07', 75.57142857142857, 80.0, 72.0),\n",
       " ('2010-11-08', 74.5, 77.0, 73.0),\n",
       " ('2010-11-09', 73.75, 80.0, 69.0),\n",
       " ('2010-11-10', 72.55555555555556, 76.0, 68.0),\n",
       " ('2010-11-11', 75.42857142857143, 80.0, 73.0),\n",
       " ('2010-11-12', 74.33333333333333, 77.0, 72.0),\n",
       " ('2010-11-13', 75.42857142857143, 79.0, 74.0),\n",
       " ('2010-11-14', 74.16666666666667, 77.0, 72.0),\n",
       " ('2010-11-15', 73.125, 75.0, 70.0),\n",
       " ('2010-11-16', 72.11111111111111, 76.0, 63.0),\n",
       " ('2010-11-17', 68.75, 73.0, 65.0),\n",
       " ('2010-11-18', 70.625, 75.0, 66.0),\n",
       " ('2010-11-19', 70.55555555555556, 75.0, 67.0),\n",
       " ('2010-11-20', 72.0, 79.0, 69.0),\n",
       " ('2010-11-21', 72.66666666666667, 77.0, 69.0),\n",
       " ('2010-11-22', 68.88888888888889, 78.0, 65.0),\n",
       " ('2010-11-23', 69.11111111111111, 77.0, 64.0),\n",
       " ('2010-11-24', 74.0, 76.0, 71.0),\n",
       " ('2010-11-25', 75.16666666666667, 76.0, 73.0),\n",
       " ('2010-11-26', 74.83333333333333, 78.0, 71.0),\n",
       " ('2010-11-27', 73.71428571428571, 76.0, 69.0),\n",
       " ('2010-11-28', 72.28571428571429, 76.0, 69.0),\n",
       " ('2010-11-29', 70.55555555555556, 75.0, 65.0),\n",
       " ('2010-11-30', 72.375, 76.0, 67.0),\n",
       " ('2010-12-01', 73.125, 78.0, 70.0),\n",
       " ('2010-12-02', 72.5, 75.0, 70.0),\n",
       " ('2010-12-03', 71.875, 74.0, 67.0),\n",
       " ('2010-12-04', 74.85714285714286, 78.0, 72.0),\n",
       " ('2010-12-05', 71.28571428571429, 78.0, 66.0),\n",
       " ('2010-12-06', 65.11111111111111, 78.0, 61.0),\n",
       " ('2010-12-07', 66.22222222222223, 76.0, 58.0),\n",
       " ('2010-12-08', 65.66666666666667, 73.0, 60.0),\n",
       " ('2010-12-09', 74.44444444444444, 77.0, 70.0),\n",
       " ('2010-12-10', 65.22222222222223, 68.0, 63.0),\n",
       " ('2010-12-11', 69.25, 72.0, 64.0),\n",
       " ('2010-12-12', 69.71428571428571, 75.0, 65.0),\n",
       " ('2010-12-13', 70.22222222222223, 80.0, 66.0),\n",
       " ('2010-12-14', 71.77777777777777, 78.0, 67.0),\n",
       " ('2010-12-15', 71.77777777777777, 74.0, 66.0),\n",
       " ('2010-12-16', 66.44444444444444, 68.0, 63.0),\n",
       " ('2010-12-17', 66.125, 68.0, 63.0),\n",
       " ('2010-12-18', 69.0, 77.0, 65.0),\n",
       " ('2010-12-19', 69.28571428571429, 71.0, 67.0),\n",
       " ('2010-12-20', 71.16666666666667, 73.0, 68.0),\n",
       " ('2010-12-21', 70.5, 72.0, 69.0),\n",
       " ('2010-12-22', 69.0, 71.0, 67.0),\n",
       " ('2010-12-23', 69.71428571428571, 73.0, 67.0),\n",
       " ('2010-12-24', 69.28571428571429, 71.0, 67.0),\n",
       " ('2010-12-25', 71.4, 74.0, 69.0),\n",
       " ('2010-12-26', 71.71428571428571, 74.0, 68.0),\n",
       " ('2010-12-27', 74.42857142857143, 76.0, 71.0),\n",
       " ('2010-12-28', 70.71428571428571, 72.0, 69.0),\n",
       " ('2010-12-29', 72.71428571428571, 75.0, 71.0),\n",
       " ('2010-12-30', 72.28571428571429, 75.0, 70.0),\n",
       " ('2010-12-31', 74.0, 77.0, 69.0),\n",
       " ('2011-01-01', 72.14285714285714, 77.0, 69.0),\n",
       " ('2011-01-02', 72.0, 74.0, 70.0),\n",
       " ('2011-01-03', 72.28571428571429, 74.0, 69.0),\n",
       " ('2011-01-04', 70.55555555555556, 73.0, 62.0),\n",
       " ('2011-01-05', 65.66666666666667, 71.0, 61.0),\n",
       " ('2011-01-06', 67.0, 72.0, 65.0),\n",
       " ('2011-01-07', 65.33333333333333, 68.0, 63.0),\n",
       " ('2011-01-08', 65.57142857142857, 73.0, 62.0),\n",
       " ('2011-01-09', 62.714285714285715, 73.0, 58.0),\n",
       " ('2011-01-10', 70.11111111111111, 73.0, 64.0),\n",
       " ('2011-01-11', 60.22222222222222, 74.0, 57.0),\n",
       " ('2011-01-12', 68.57142857142857, 71.0, 66.0),\n",
       " ('2011-01-13', 67.625, 70.0, 65.0),\n",
       " ('2011-01-14', 74.375, 76.0, 71.0),\n",
       " ('2011-01-15', 68.2, 73.0, 66.0),\n",
       " ('2011-01-16', 67.85714285714286, 70.0, 66.0),\n",
       " ('2011-01-17', 68.85714285714286, 75.0, 64.0),\n",
       " ('2011-01-18', 64.22222222222223, 67.0, 62.0),\n",
       " ('2011-01-19', 64.22222222222223, 67.0, 62.0),\n",
       " ('2011-01-20', 69.0, 76.0, 61.0),\n",
       " ('2011-01-21', 72.0, 75.0, 70.0),\n",
       " ('2011-01-22', 71.28571428571429, 76.0, 65.0),\n",
       " ('2011-01-23', 69.0, 76.0, 64.0),\n",
       " ('2011-01-24', 70.88888888888889, 75.0, 68.0),\n",
       " ('2011-01-25', 64.0, 73.0, 61.0),\n",
       " ('2011-01-26', 65.875, 70.0, 61.0),\n",
       " ('2011-01-27', 68.88888888888889, 75.0, 65.0),\n",
       " ('2011-01-28', 71.88888888888889, 75.0, 69.0),\n",
       " ('2011-01-29', 68.0, 76.0, 64.0),\n",
       " ('2011-01-30', 66.83333333333333, 75.0, 61.0),\n",
       " ('2011-01-31', 66.44444444444444, 73.0, 60.0),\n",
       " ('2011-02-01', 66.55555555555556, 73.0, 56.0),\n",
       " ('2011-02-02', 68.0, 75.0, 61.0),\n",
       " ('2011-02-03', 67.77777777777777, 76.0, 62.0),\n",
       " ('2011-02-04', 64.0, 72.0, 61.0),\n",
       " ('2011-02-05', 66.5, 73.0, 62.0),\n",
       " ('2011-02-06', 73.83333333333333, 76.0, 70.0),\n",
       " ('2011-02-07', 67.77777777777777, 69.0, 67.0),\n",
       " ('2011-02-08', 69.5, 71.0, 65.0),\n",
       " ('2011-02-09', 69.375, 74.0, 62.0),\n",
       " ('2011-02-10', 69.0, 72.0, 67.0),\n",
       " ('2011-02-11', 68.75, 71.0, 66.0),\n",
       " ('2011-02-12', 68.5, 72.0, 66.0),\n",
       " ('2011-02-13', 69.85714285714286, 76.0, 66.0),\n",
       " ('2011-02-14', 69.875, 75.0, 67.0),\n",
       " ('2011-02-15', 69.44444444444444, 73.0, 65.0),\n",
       " ('2011-02-16', 73.625, 76.0, 71.0),\n",
       " ('2011-02-17', 71.875, 77.0, 66.0),\n",
       " ('2011-02-18', 74.5, 77.0, 72.0),\n",
       " ('2011-02-19', 72.0, 76.0, 67.0),\n",
       " ('2011-02-20', 73.14285714285714, 76.0, 71.0),\n",
       " ('2011-02-21', 72.57142857142857, 76.0, 67.0),\n",
       " ('2011-02-22', 71.11111111111111, 75.0, 65.0),\n",
       " ('2011-02-23', 71.11111111111111, 76.0, 65.0),\n",
       " ('2011-02-24', 67.44444444444444, 72.0, 65.0),\n",
       " ('2011-02-25', 67.0, 72.0, 63.0),\n",
       " ('2011-02-26', 72.5, 78.0, 69.0),\n",
       " ('2011-02-27', 71.5, 75.0, 67.0),\n",
       " ('2011-02-28', 69.66666666666667, 75.0, 65.0),\n",
       " ('2011-03-01', 67.88888888888889, 74.0, 64.0),\n",
       " ('2011-03-02', 69.33333333333333, 72.0, 61.0),\n",
       " ('2011-03-03', 71.5, 74.0, 69.0),\n",
       " ('2011-03-04', 71.625, 73.0, 69.0),\n",
       " ('2011-03-05', 68.5, 69.0, 67.0),\n",
       " ('2011-03-06', 72.42857142857143, 75.0, 69.0),\n",
       " ('2011-03-07', 72.25, 76.0, 70.0),\n",
       " ('2011-03-08', 71.11111111111111, 73.0, 66.0),\n",
       " ('2011-03-09', 69.88888888888889, 72.0, 67.0),\n",
       " ('2011-03-10', 70.55555555555556, 74.0, 68.0),\n",
       " ('2011-03-11', 71.83333333333333, 79.0, 67.0),\n",
       " ('2011-03-12', 74.0, 77.0, 71.0),\n",
       " ('2011-03-13', 73.33333333333333, 77.0, 70.0),\n",
       " ('2011-03-14', 70.375, 77.0, 63.0),\n",
       " ('2011-03-15', 72.0, 76.0, 67.0),\n",
       " ('2011-03-16', 73.5, 76.0, 71.0),\n",
       " ('2011-03-17', 71.5, 73.0, 69.0),\n",
       " ('2011-03-18', 71.42857142857143, 74.0, 68.0),\n",
       " ('2011-03-19', 72.28571428571429, 75.0, 69.0),\n",
       " ('2011-03-20', 72.16666666666667, 74.0, 67.0),\n",
       " ('2011-03-21', 71.875, 75.0, 69.0),\n",
       " ('2011-03-22', 71.0, 74.0, 67.0),\n",
       " ('2011-03-23', 72.125, 74.0, 69.0),\n",
       " ('2011-03-24', 72.625, 76.0, 71.0),\n",
       " ('2011-03-25', 73.0, 76.0, 71.0),\n",
       " ('2011-03-26', 71.85714285714286, 75.0, 67.0),\n",
       " ('2011-03-27', 73.16666666666667, 74.0, 72.0),\n",
       " ('2011-03-28', 70.33333333333333, 74.0, 66.0),\n",
       " ('2011-03-29', 71.85714285714286, 75.0, 68.0),\n",
       " ('2011-03-30', 73.77777777777777, 76.0, 72.0),\n",
       " ('2011-03-31', 71.88888888888889, 75.0, 61.0),\n",
       " ('2011-04-01', 72.55555555555556, 76.0, 67.0),\n",
       " ('2011-04-02', 73.5, 79.0, 68.0),\n",
       " ('2011-04-03', 73.66666666666667, 78.0, 70.0),\n",
       " ('2011-04-04', 72.33333333333333, 75.0, 64.0),\n",
       " ('2011-04-05', 71.5, 74.0, 69.0),\n",
       " ('2011-04-06', 70.0, 72.0, 68.0),\n",
       " ('2011-04-07', 68.22222222222223, 71.0, 66.0),\n",
       " ('2011-04-08', 68.875, 71.0, 67.0),\n",
       " ('2011-04-09', 75.66666666666667, 77.0, 74.0),\n",
       " ('2011-04-10', 74.42857142857143, 76.0, 72.0),\n",
       " ('2011-04-11', 73.66666666666667, 76.0, 70.0),\n",
       " ('2011-04-12', 73.22222222222223, 76.0, 72.0),\n",
       " ('2011-04-13', 69.44444444444444, 77.0, 64.0),\n",
       " ('2011-04-14', 73.5, 78.0, 70.0),\n",
       " ('2011-04-15', 72.44444444444444, 77.0, 67.0),\n",
       " ('2011-04-16', 75.0, 81.0, 70.0),\n",
       " ('2011-04-17', 74.71428571428571, 77.0, 73.0),\n",
       " ('2011-04-18', 72.33333333333333, 76.0, 67.0),\n",
       " ('2011-04-19', 72.0, 76.0, 66.0),\n",
       " ('2011-04-20', 70.75, 74.0, 66.0),\n",
       " ('2011-04-21', 72.55555555555556, 78.0, 66.0),\n",
       " ('2011-04-22', 77.28571428571429, 84.0, 73.0),\n",
       " ('2011-04-23', 76.28571428571429, 79.0, 71.0),\n",
       " ('2011-04-24', 75.66666666666667, 79.0, 71.0),\n",
       " ('2011-04-25', 73.22222222222223, 77.0, 69.0),\n",
       " ('2011-04-26', 73.11111111111111, 77.0, 68.0),\n",
       " ('2011-04-27', 73.22222222222223, 78.0, 69.0),\n",
       " ('2011-04-28', 74.0, 79.0, 70.0),\n",
       " ('2011-04-29', 73.625, 78.0, 69.0),\n",
       " ('2011-04-30', 73.16666666666667, 76.0, 68.0),\n",
       " ('2011-05-01', 74.16666666666667, 77.0, 71.0),\n",
       " ('2011-05-02', 73.11111111111111, 79.0, 65.0),\n",
       " ('2011-05-03', 70.55555555555556, 73.0, 69.0),\n",
       " ('2011-05-04', 72.75, 76.0, 70.0),\n",
       " ('2011-05-05', 72.0, 74.0, 70.0),\n",
       " ('2011-05-06', 70.66666666666667, 74.0, 67.0),\n",
       " ('2011-05-07', 71.28571428571429, 74.0, 67.0),\n",
       " ('2011-05-08', 71.5, 75.0, 68.0),\n",
       " ('2011-05-09', 72.66666666666667, 75.0, 70.0),\n",
       " ('2011-05-10', 73.11111111111111, 75.0, 72.0),\n",
       " ('2011-05-11', 72.11111111111111, 75.0, 70.0),\n",
       " ('2011-05-12', 73.55555555555556, 77.0, 70.0),\n",
       " ('2011-05-13', 73.57142857142857, 77.0, 71.0),\n",
       " ('2011-05-14', 77.0, 79.0, 72.0),\n",
       " ('2011-05-15', 75.0, 78.0, 72.0),\n",
       " ('2011-05-16', 74.44444444444444, 78.0, 71.0),\n",
       " ('2011-05-17', 73.33333333333333, 78.0, 68.0),\n",
       " ('2011-05-18', 72.44444444444444, 77.0, 68.0),\n",
       " ('2011-05-19', 72.44444444444444, 78.0, 66.0),\n",
       " ('2011-05-20', 74.55555555555556, 79.0, 70.0)]"
      ]
     },
     "execution_count": 148,
     "metadata": {},
     "output_type": "execute_result"
    }
   ],
   "source": [
    "#Date weather calculator (search for weather in historical data)\n",
    "\n",
    "start_date = input(f'Enter a date to search the weather(yyyy-mm-dd)')\n",
    "end_date = input(f'End date of your search(yyyy-mm-dd)') \n",
    "\n",
    "\n",
    "\n",
    "def calc_temps(start_date, end_date):\n",
    "    \n",
    "    trip_temps = session.query(Measurement.date,func.avg(Measurement.tobs),func.max(Measurement.tobs),func.min(Measurement.tobs)).\\\n",
    "    group_by(Measurement.date).\\\n",
    "    filter(Measurement.date>=start_date, Measurement.date <= end_date).all()\n",
    "    \n",
    "    return(trip_temps)\n",
    "calc_temps(start_date, end_date)"
   ]
  },
  {
   "cell_type": "code",
   "execution_count": 149,
   "metadata": {},
   "outputs": [
    {
     "data": {
      "image/png": "[encoded data removed]",
      "text/plain": [
       "<Figure size 432x288 with 1 Axes>"
      ]
     },
     "metadata": {
      "needs_background": "light"
     },
     "output_type": "display_data"
    }
   ],
   "source": [
    "x = calc_temps(start_date, end_date)\n",
    "\n",
    "trip_temp_df = pd.DataFrame(x, columns=['Date','Avg_Temp','Max_Temp','Min_Temp'])\n",
    "\n",
    "trip_temp_df.plot.bar()\n",
    "plt.show()"
   ]
  },
  {
   "cell_type": "markdown",
   "metadata": {},
   "source": [
    "# Weather forecast calculator for your future trip"
   ]
  },
  {
   "cell_type": "code",
   "execution_count": 160,
   "metadata": {},
   "outputs": [
    {
     "name": "stdout",
     "output_type": "stream",
     "text": [
      "Start date of your trip(yyyy-mm-dd)2020-02-25\n",
      "End date of your trip(yyyy-mm-dd)2020-03-10\n"
     ]
    },
    {
     "data": {
      "text/plain": [
       "'10'"
      ]
     },
     "execution_count": 160,
     "metadata": {},
     "output_type": "execute_result"
    }
   ],
   "source": [
    "#Enter your planned trip datess\n",
    "dates = []\n",
    "start_date = input(f'Start date of your trip(yyyy-mm-dd)')\n",
    "end_date = input(f'End date of your trip(yyyy-mm-dd)') \n",
    "\n",
    "for date in start_date, end_date:\n",
    "    split_date=date.split('-')\n",
    "    dates.append(split_date)\n",
    "    \n",
    "start,end = dates\n",
    "\n",
    "start_year=(start[0]); start_month=(start[1]); start_day=(start[2])\n",
    "end_year=(end[0]); end_month=(end[1]); end_day=(end[2])"
   ]
  },
  {
   "cell_type": "code",
   "execution_count": 161,
   "metadata": {},
   "outputs": [
    {
     "data": {
      "text/html": [
       "<div>\n",
       "<style scoped>\n",
       "    .dataframe tbody tr th:only-of-type {\n",
       "        vertical-align: middle;\n",
       "    }\n",
       "\n",
       "    .dataframe tbody tr th {\n",
       "        vertical-align: top;\n",
       "    }\n",
       "\n",
       "    .dataframe thead th {\n",
       "        text-align: right;\n",
       "    }\n",
       "</style>\n",
       "<table border=\"1\" class=\"dataframe\">\n",
       "  <thead>\n",
       "    <tr style=\"text-align: right;\">\n",
       "      <th></th>\n",
       "      <th>Date</th>\n",
       "      <th>Avg_Temp</th>\n",
       "      <th>Avg_Max_Temp</th>\n",
       "      <th>Avg_Min_Temp</th>\n",
       "      <th>Avg_Precipitation</th>\n",
       "    </tr>\n",
       "  </thead>\n",
       "  <tbody>\n",
       "    <tr>\n",
       "      <td>0</td>\n",
       "      <td>2010-02-25</td>\n",
       "      <td>69.571429</td>\n",
       "      <td>76.0</td>\n",
       "      <td>64.0</td>\n",
       "      <td>0.002857</td>\n",
       "    </tr>\n",
       "    <tr>\n",
       "      <td>1</td>\n",
       "      <td>2010-02-26</td>\n",
       "      <td>72.833333</td>\n",
       "      <td>75.0</td>\n",
       "      <td>71.0</td>\n",
       "      <td>0.003333</td>\n",
       "    </tr>\n",
       "    <tr>\n",
       "      <td>2</td>\n",
       "      <td>2010-02-27</td>\n",
       "      <td>71.500000</td>\n",
       "      <td>75.0</td>\n",
       "      <td>68.0</td>\n",
       "      <td>0.007500</td>\n",
       "    </tr>\n",
       "    <tr>\n",
       "      <td>3</td>\n",
       "      <td>2010-02-28</td>\n",
       "      <td>68.000000</td>\n",
       "      <td>70.0</td>\n",
       "      <td>66.0</td>\n",
       "      <td>0.102000</td>\n",
       "    </tr>\n",
       "    <tr>\n",
       "      <td>4</td>\n",
       "      <td>2010-03-01</td>\n",
       "      <td>68.125000</td>\n",
       "      <td>70.0</td>\n",
       "      <td>66.0</td>\n",
       "      <td>0.028571</td>\n",
       "    </tr>\n",
       "  </tbody>\n",
       "</table>\n",
       "</div>"
      ],
      "text/plain": [
       "         Date   Avg_Temp  Avg_Max_Temp  Avg_Min_Temp  Avg_Precipitation\n",
       "0  2010-02-25  69.571429          76.0          64.0           0.002857\n",
       "1  2010-02-26  72.833333          75.0          71.0           0.003333\n",
       "2  2010-02-27  71.500000          75.0          68.0           0.007500\n",
       "3  2010-02-28  68.000000          70.0          66.0           0.102000\n",
       "4  2010-03-01  68.125000          70.0          66.0           0.028571"
      ]
     },
     "execution_count": 161,
     "metadata": {},
     "output_type": "execute_result"
    }
   ],
   "source": [
    "#Trip weather calculator\n",
    "\n",
    "trip = session.query(Measurement.date,func.avg(Measurement.tobs),\\\n",
    "func.max(Measurement.tobs),func.min(Measurement.tobs),func.avg(Measurement.prcp)).\\\n",
    "filter(or_(and_(extract('day', Measurement.date)>=start_day,extract('month', Measurement.date)==start_month),\\\n",
    "(and_(extract('day', Measurement.date)<=end_day,extract('month', Measurement.date)==end_month)))).\\\n",
    "group_by(Measurement.date).all()\n",
    "\n",
    "\n",
    "trip_forecast_df = pd.DataFrame(trip, columns=['Date','Avg_Temp','Avg_Max_Temp','Avg_Min_Temp','Avg_Precipitation'])\n",
    "trip_forecast_df.head(5)"
   ]
  },
  {
   "cell_type": "code",
   "execution_count": 162,
   "metadata": {},
   "outputs": [
    {
     "name": "stdout",
     "output_type": "stream",
     "text": [
      "During your planned trip: From 2020-02-25 to: 2020-03-10 the weather forecast is the following: \n",
      "Avg_Temp             68.613104\n",
      "Avg_Max_Temp         72.919118\n",
      "Avg_Min_Temp         64.419118\n",
      "Avg_Precipitation     0.150122\n",
      "dtype: float64\n"
     ]
    }
   ],
   "source": [
    "#Forecast for planned trip\n",
    "\n",
    "print(f'During your planned trip: From ' + (start_date)  + ' to: ' + (end_date) + ' the weather forecast is the following: ')\n",
    "print(trip_avgforecast_df.mean())"
   ]
  },
  {
   "cell_type": "code",
   "execution_count": 166,
   "metadata": {},
   "outputs": [
    {
     "data": {
      "text/plain": [
       "Avg_Temp             68.613104\n",
       "Avg_Max_Temp         72.919118\n",
       "Avg_Min_Temp         64.419118\n",
       "Avg_Precipitation     0.150122\n",
       "dtype: float64"
      ]
     },
     "execution_count": 166,
     "metadata": {},
     "output_type": "execute_result"
    }
   ],
   "source": [
    "trip_forecast_summary"
   ]
  },
  {
   "cell_type": "code",
   "execution_count": 172,
   "metadata": {},
   "outputs": [
    {
     "data": {
      "text/plain": [
       "<BarContainer object of 1 artists>"
      ]
     },
     "execution_count": 172,
     "metadata": {},
     "output_type": "execute_result"
    },
    {
     "data": {
      "image/png": "[encoded data removed]",
      "text/plain": [
       "<Figure size 432x288 with 2 Axes>"
      ]
     },
     "metadata": {
      "needs_background": "light"
     },
     "output_type": "display_data"
    }
   ],
   "source": [
    "fig,ax=plt.subplots()\n",
    "for i in range(3):\n",
    "    ax.bar(x=i,height=trip_forecast_summary[i])\n",
    "ax2=ax.twinx()\n",
    "ax2.bar(x=3,height=trip_forecast_summary[3])"
   ]
  },
  {
   "cell_type": "code",
   "execution_count": 163,
   "metadata": {},
   "outputs": [
    {
     "data": {
      "text/plain": [
       "<matplotlib.axes._subplots.AxesSubplot at 0x12f972210>"
      ]
     },
     "execution_count": 163,
     "metadata": {},
     "output_type": "execute_result"
    },
    {
     "data": {
      "image/png": "[encoded data removed]",
      "text/plain": [
       "<Figure size 432x288 with 1 Axes>"
      ]
     },
     "metadata": {
      "needs_background": "light"
     },
     "output_type": "display_data"
    }
   ],
   "source": [
    "trip_forecast_summary = trip_avgforecast_df.mean()\n",
    "trip_forecast_summary.plot.bar()"
   ]
  },
  {
   "cell_type": "code",
   "execution_count": 147,
   "metadata": {},
   "outputs": [
    {
     "data": {
      "text/html": [
       "<div>\n",
       "<style scoped>\n",
       "    .dataframe tbody tr th:only-of-type {\n",
       "        vertical-align: middle;\n",
       "    }\n",
       "\n",
       "    .dataframe tbody tr th {\n",
       "        vertical-align: top;\n",
       "    }\n",
       "\n",
       "    .dataframe thead th {\n",
       "        text-align: right;\n",
       "    }\n",
       "</style>\n",
       "<table border=\"1\" class=\"dataframe\">\n",
       "  <thead>\n",
       "    <tr style=\"text-align: right;\">\n",
       "      <th></th>\n",
       "      <th>Avg_Precipitation</th>\n",
       "      <th>name</th>\n",
       "      <th>latitude</th>\n",
       "      <th>longitude</th>\n",
       "      <th>elevation</th>\n",
       "    </tr>\n",
       "    <tr>\n",
       "      <th>Station</th>\n",
       "      <th></th>\n",
       "      <th></th>\n",
       "      <th></th>\n",
       "      <th></th>\n",
       "      <th></th>\n",
       "    </tr>\n",
       "  </thead>\n",
       "  <tbody>\n",
       "    <tr>\n",
       "      <td>USC00516128</td>\n",
       "      <td>0.231333</td>\n",
       "      <td>MANOA LYON ARBO 785.2, HI US</td>\n",
       "      <td>21.33310</td>\n",
       "      <td>-157.80250</td>\n",
       "      <td>152.4</td>\n",
       "    </tr>\n",
       "    <tr>\n",
       "      <td>USC00519281</td>\n",
       "      <td>0.217279</td>\n",
       "      <td>WAIHEE 837.5, HI US</td>\n",
       "      <td>21.45167</td>\n",
       "      <td>-157.84889</td>\n",
       "      <td>32.9</td>\n",
       "    </tr>\n",
       "    <tr>\n",
       "      <td>USC00519523</td>\n",
       "      <td>0.176694</td>\n",
       "      <td>WAIMANALO EXPERIMENTAL FARM, HI US</td>\n",
       "      <td>21.33556</td>\n",
       "      <td>-157.71139</td>\n",
       "      <td>19.5</td>\n",
       "    </tr>\n",
       "    <tr>\n",
       "      <td>USC00513117</td>\n",
       "      <td>0.149118</td>\n",
       "      <td>KANEOHE 838.1, HI US</td>\n",
       "      <td>21.42340</td>\n",
       "      <td>-157.80150</td>\n",
       "      <td>14.6</td>\n",
       "    </tr>\n",
       "    <tr>\n",
       "      <td>USC00518838</td>\n",
       "      <td>0.123333</td>\n",
       "      <td>UPPER WAHIAWA 874.3, HI US</td>\n",
       "      <td>21.49920</td>\n",
       "      <td>-158.01110</td>\n",
       "      <td>306.6</td>\n",
       "    </tr>\n",
       "    <tr>\n",
       "      <td>USC00517948</td>\n",
       "      <td>0.100000</td>\n",
       "      <td>PEARL CITY, HI US</td>\n",
       "      <td>21.39340</td>\n",
       "      <td>-157.97510</td>\n",
       "      <td>11.9</td>\n",
       "    </tr>\n",
       "    <tr>\n",
       "      <td>USC00514830</td>\n",
       "      <td>0.088182</td>\n",
       "      <td>KUALOA RANCH HEADQUARTERS 886.9, HI US</td>\n",
       "      <td>21.52130</td>\n",
       "      <td>-157.83740</td>\n",
       "      <td>7.0</td>\n",
       "    </tr>\n",
       "    <tr>\n",
       "      <td>USC00511918</td>\n",
       "      <td>0.084062</td>\n",
       "      <td>HONOLULU OBSERVATORY 702.2, HI US</td>\n",
       "      <td>21.31520</td>\n",
       "      <td>-157.99920</td>\n",
       "      <td>0.9</td>\n",
       "    </tr>\n",
       "    <tr>\n",
       "      <td>USC00519397</td>\n",
       "      <td>0.077154</td>\n",
       "      <td>WAIKIKI 717.2, HI US</td>\n",
       "      <td>21.27160</td>\n",
       "      <td>-157.81680</td>\n",
       "      <td>3.0</td>\n",
       "    </tr>\n",
       "  </tbody>\n",
       "</table>\n",
       "</div>"
      ],
      "text/plain": [
       "             Avg_Precipitation                                    name  \\\n",
       "Station                                                                  \n",
       "USC00516128           0.231333            MANOA LYON ARBO 785.2, HI US   \n",
       "USC00519281           0.217279                     WAIHEE 837.5, HI US   \n",
       "USC00519523           0.176694      WAIMANALO EXPERIMENTAL FARM, HI US   \n",
       "USC00513117           0.149118                    KANEOHE 838.1, HI US   \n",
       "USC00518838           0.123333              UPPER WAHIAWA 874.3, HI US   \n",
       "USC00517948           0.100000                       PEARL CITY, HI US   \n",
       "USC00514830           0.088182  KUALOA RANCH HEADQUARTERS 886.9, HI US   \n",
       "USC00511918           0.084062       HONOLULU OBSERVATORY 702.2, HI US   \n",
       "USC00519397           0.077154                    WAIKIKI 717.2, HI US   \n",
       "\n",
       "             latitude  longitude  elevation  \n",
       "Station                                      \n",
       "USC00516128  21.33310 -157.80250      152.4  \n",
       "USC00519281  21.45167 -157.84889       32.9  \n",
       "USC00519523  21.33556 -157.71139       19.5  \n",
       "USC00513117  21.42340 -157.80150       14.6  \n",
       "USC00518838  21.49920 -158.01110      306.6  \n",
       "USC00517948  21.39340 -157.97510       11.9  \n",
       "USC00514830  21.52130 -157.83740        7.0  \n",
       "USC00511918  21.31520 -157.99920        0.9  \n",
       "USC00519397  21.27160 -157.81680        3.0  "
      ]
     },
     "execution_count": 147,
     "metadata": {},
     "output_type": "execute_result"
    }
   ],
   "source": [
    "# Calculate the total amount of rainfall per weather station for your trip dates using the previous year's matching dates.\n",
    "trip_rain = session.query(Measurement.station,func.avg(Measurement.prcp)).\\\n",
    "filter(or_(and_(extract('day', Measurement.date)>=start_day,extract('month', Measurement.date)==start_month),\\\n",
    "(and_(extract('day', Measurement.date)<=end_day,extract('month', Measurement.date)==end_month)))).\\\n",
    "group_by(Measurement.station).all()\n",
    "\n",
    "trip_rain = pd.DataFrame(trip_rain, columns=['Station','Avg_Precipitation'])\n",
    "\n",
    "trip_rain\n",
    "\n",
    "trip_rain_df = trip_rain.merge(station_names, left_on='Station', right_on='station')\n",
    "del trip_rain_df['station']\n",
    "trip_rain_df = trip_rain_df.set_index('Station')\n",
    "\n",
    "# Sort this in descending order by precipitation amount and list the station, name, latitude, longitude, and elevation\n",
    "\n",
    "trip_rain_df.sort_values(by=['Avg_Precipitation'], ascending=False)"
   ]
  },
  {
   "cell_type": "markdown",
   "metadata": {},
   "source": [
    "## Optional Challenge Assignment"
   ]
  },
  {
   "cell_type": "code",
   "execution_count": 175,
   "metadata": {},
   "outputs": [
    {
     "name": "stdout",
     "output_type": "stream",
     "text": [
      "Insert a month and a day to check historic weather behaviour(mm-dd)12-30\n"
     ]
    },
    {
     "data": {
      "text/plain": [
       "[(63.0, 69.86363636363636, 76.0)]"
      ]
     },
     "execution_count": 175,
     "metadata": {},
     "output_type": "execute_result"
    }
   ],
   "source": [
    "# Daily normals \n",
    "\n",
    "date_normal = input(f'Insert a month and a day to check historic weather behaviour(mm-dd)')\n",
    "\n",
    "def daily_normals(date_normal):\n",
    "    \n",
    "    sel = [func.min(Measurement.tobs), func.avg(Measurement.tobs), func.max(Measurement.tobs)]\n",
    "    return session.query(*sel).filter(func.strftime(\"%m-%d\", Measurement.date) == date_normal).all()\n",
    "    \n",
    "daily_normals(date_normal)"
   ]
  },
  {
   "cell_type": "markdown",
   "metadata": {},
   "source": [
    "# Flask app"
   ]
  },
  {
   "cell_type": "code",
   "execution_count": null,
   "metadata": {},
   "outputs": [],
   "source": [
    "@app.route('/_trip_dates')\n",
    "def trip_dates():\n",
    "    return jsonify()"
   ]
  }
 ],
 "metadata": {
  "kernel_info": {
   "name": "python3"
  },
  "kernelspec": {
   "display_name": "Python 3",
   "language": "python",
   "name": "python3"
  },
  "language_info": {
   "codemirror_mode": {
    "name": "ipython",
    "version": 3
   },
   "file_extension": ".py",
   "mimetype": "text/x-python",
   "name": "python",
   "nbconvert_exporter": "python",
   "pygments_lexer": "ipython3",
   "version": "3.7.4"
  },
  "nteract": {
   "version": "0.12.3"
  },
  "varInspector": {
   "cols": {
    "lenName": 16,
    "lenType": 16,
    "lenVar": 40
   },
   "kernels_config": {
    "python": {
     "delete_cmd_postfix": "",
     "delete_cmd_prefix": "del ",
     "library": "var_list.py",
     "varRefreshCmd": "print(var_dic_list())"
    },
    "r": {
     "delete_cmd_postfix": ") ",
     "delete_cmd_prefix": "rm(",
     "library": "var_list.r",
     "varRefreshCmd": "cat(var_dic_list()) "
    }
   },
   "types_to_exclude": [
    "module",
    "function",
    "builtin_function_or_method",
    "instance",
    "_Feature"
   ],
   "window_display": false
  }
 },
 "nbformat": 4,
 "nbformat_minor": 2
}
